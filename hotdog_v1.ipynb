{
  "nbformat": 4,
  "nbformat_minor": 0,
  "metadata": {
    "colab": {
      "provenance": [],
      "gpuType": "T4"
    },
    "kernelspec": {
      "name": "python3",
      "display_name": "Python 3"
    },
    "language_info": {
      "name": "python"
    },
    "accelerator": "GPU"
  },
  "cells": [
    {
      "cell_type": "code",
      "source": [
        "from google.colab import drive\n",
        "drive.mount('/content/drive')\n"
      ],
      "metadata": {
        "colab": {
          "base_uri": "https://localhost:8080/"
        },
        "id": "1fPc5kGfHrZy",
        "outputId": "8bc63eba-5a0d-44e6-eff3-6f0976970f5c"
      },
      "execution_count": 8,
      "outputs": [
        {
          "output_type": "stream",
          "name": "stdout",
          "text": [
            "Mounted at /content/drive\n"
          ]
        }
      ]
    },
    {
      "cell_type": "code",
      "source": [
        "%cd \"/content/drive/MyDrive/hotdog-nothotdog\"\n",
        "!ls"
      ],
      "metadata": {
        "colab": {
          "base_uri": "https://localhost:8080/"
        },
        "id": "_pRoiX7PHxh1",
        "outputId": "4c505914-5ae2-4872-a6a9-325031dfae87"
      },
      "execution_count": 9,
      "outputs": [
        {
          "output_type": "stream",
          "name": "stdout",
          "text": [
            "/content/drive/MyDrive/hotdog-nothotdog\n",
            "augmented  test  train\tvalidation\n"
          ]
        }
      ]
    },
    {
      "cell_type": "code",
      "execution_count": 10,
      "metadata": {
        "colab": {
          "base_uri": "https://localhost:8080/"
        },
        "id": "dppYPiaQHiko",
        "outputId": "e66499eb-d471-47ff-9bd2-be1f00f56e27"
      },
      "outputs": [
        {
          "output_type": "stream",
          "name": "stdout",
          "text": [
            "Found 4042 files belonging to 2 classes.\n",
            "Found 200 files belonging to 2 classes.\n",
            "Found 400 files belonging to 2 classes.\n"
          ]
        }
      ],
      "source": [
        "import tensorflow as tf\n",
        "import os\n",
        "from tensorflow.keras.preprocessing import image_dataset_from_directory\n",
        "\n",
        "#               Directorios datos (EN DRIVE!!!!!!)\n",
        "base_dir = '/content/drive/MyDrive/hotdog-nothotdog'\n",
        "test_dir = os.path.join(base_dir, 'test')\n",
        "validation_dir = os.path.join(base_dir, 'validation')\n",
        "train_dir = os.path.join(base_dir,'train')\n",
        "\n",
        "train_dataset = image_dataset_from_directory(train_dir,\n",
        "                                             image_size=(224, 224),\n",
        "                                             batch_size=32,\n",
        "                                             label_mode='binary')\n",
        "validation_dataset = image_dataset_from_directory(validation_dir,\n",
        "                                                  image_size=(224, 224),\n",
        "                                                  batch_size=32,\n",
        "                                                  label_mode='binary')\n",
        "test_dataset = image_dataset_from_directory(test_dir,\n",
        "                                            image_size=(224, 224),\n",
        "                                            batch_size=32,\n",
        "                                            label_mode='binary')\n"
      ]
    },
    {
      "cell_type": "code",
      "source": [
        "from tensorflow.keras import optimizers\n",
        "from tensorflow.keras import models\n",
        "from tensorflow.keras import layers\n",
        "\n",
        "model = models.Sequential()\n",
        "# Ajustar tamaño del kernel y número de filtros\n",
        "model.add(layers.Conv2D(32, (3, 3 ), activation='relu', input_shape=(224, 224, 3)))\n",
        "model.add(layers.MaxPooling2D((2, 2)))\n",
        "model.add(layers.Conv2D(64, (3, 3),  activation='relu'))\n",
        "model.add(layers.MaxPooling2D((2, 2)))\n",
        "model.add(layers.Conv2D(128, (3, 3), activation='relu'))\n",
        "model.add(layers.MaxPooling2D((2, 2)))\n",
        "model.add(layers.Conv2D(128, (3, 3), activation='relu'))\n",
        "model.add(layers.MaxPooling2D((2, 2)))\n",
        "model.add(layers.Flatten())\n",
        "# Ajustar número de neuronas\n",
        "model.add(layers.Dense(512, activation='relu'))\n",
        "model.add(layers.Dense(1,   activation='sigmoid'))\n",
        "\n",
        "model.summary()\n",
        "\n",
        "\n",
        "model.compile(loss='binary_crossentropy',\n",
        "              optimizer=optimizers.RMSprop(learning_rate=2e-5),\n",
        "              metrics=['accuracy'])\n",
        "\n"
      ],
      "metadata": {
        "colab": {
          "base_uri": "https://localhost:8080/"
        },
        "id": "aSGRPXj7M-5n",
        "outputId": "7c9dce3c-b889-43de-9249-3d8ab53e41c9"
      },
      "execution_count": 11,
      "outputs": [
        {
          "output_type": "stream",
          "name": "stdout",
          "text": [
            "Model: \"sequential\"\n",
            "_________________________________________________________________\n",
            " Layer (type)                Output Shape              Param #   \n",
            "=================================================================\n",
            " conv2d (Conv2D)             (None, 222, 222, 32)      896       \n",
            "                                                                 \n",
            " max_pooling2d (MaxPooling2  (None, 111, 111, 32)      0         \n",
            " D)                                                              \n",
            "                                                                 \n",
            " conv2d_1 (Conv2D)           (None, 109, 109, 64)      18496     \n",
            "                                                                 \n",
            " max_pooling2d_1 (MaxPoolin  (None, 54, 54, 64)        0         \n",
            " g2D)                                                            \n",
            "                                                                 \n",
            " conv2d_2 (Conv2D)           (None, 52, 52, 128)       73856     \n",
            "                                                                 \n",
            " max_pooling2d_2 (MaxPoolin  (None, 26, 26, 128)       0         \n",
            " g2D)                                                            \n",
            "                                                                 \n",
            " conv2d_3 (Conv2D)           (None, 24, 24, 128)       147584    \n",
            "                                                                 \n",
            " max_pooling2d_3 (MaxPoolin  (None, 12, 12, 128)       0         \n",
            " g2D)                                                            \n",
            "                                                                 \n",
            " flatten (Flatten)           (None, 18432)             0         \n",
            "                                                                 \n",
            " dense (Dense)               (None, 512)               9437696   \n",
            "                                                                 \n",
            " dense_1 (Dense)             (None, 1)                 513       \n",
            "                                                                 \n",
            "=================================================================\n",
            "Total params: 9679041 (36.92 MB)\n",
            "Trainable params: 9679041 (36.92 MB)\n",
            "Non-trainable params: 0 (0.00 Byte)\n",
            "_________________________________________________________________\n"
          ]
        }
      ]
    },
    {
      "cell_type": "code",
      "source": [
        "history = model.fit(train_dataset,\n",
        "                    epochs=10,\n",
        "                    validation_data=validation_dataset)\n"
      ],
      "metadata": {
        "colab": {
          "base_uri": "https://localhost:8080/"
        },
        "id": "7jnpqiuXNFRh",
        "outputId": "5bdc82da-0c53-4d61-80c7-52035baf1dab"
      },
      "execution_count": 12,
      "outputs": [
        {
          "output_type": "stream",
          "name": "stdout",
          "text": [
            "Epoch 1/10\n",
            "127/127 [==============================] - 342s 2s/step - loss: 2.9230 - accuracy: 0.5364 - val_loss: 1.3414 - val_accuracy: 0.5400\n",
            "Epoch 2/10\n",
            "127/127 [==============================] - 17s 127ms/step - loss: 0.9687 - accuracy: 0.6007 - val_loss: 0.8671 - val_accuracy: 0.5700\n",
            "Epoch 3/10\n",
            "127/127 [==============================] - 18s 130ms/step - loss: 0.6625 - accuracy: 0.6769 - val_loss: 0.7220 - val_accuracy: 0.6100\n",
            "Epoch 4/10\n",
            "127/127 [==============================] - 17s 126ms/step - loss: 0.5160 - accuracy: 0.7464 - val_loss: 0.6482 - val_accuracy: 0.6300\n",
            "Epoch 5/10\n",
            "127/127 [==============================] - 17s 126ms/step - loss: 0.3878 - accuracy: 0.8241 - val_loss: 0.8915 - val_accuracy: 0.5950\n",
            "Epoch 6/10\n",
            "127/127 [==============================] - 17s 131ms/step - loss: 0.3078 - accuracy: 0.8691 - val_loss: 1.0379 - val_accuracy: 0.5950\n",
            "Epoch 7/10\n",
            "127/127 [==============================] - 17s 124ms/step - loss: 0.2225 - accuracy: 0.9213 - val_loss: 0.8298 - val_accuracy: 0.6250\n",
            "Epoch 8/10\n",
            "127/127 [==============================] - 17s 131ms/step - loss: 0.1700 - accuracy: 0.9461 - val_loss: 0.8229 - val_accuracy: 0.6250\n",
            "Epoch 9/10\n",
            "127/127 [==============================] - 17s 125ms/step - loss: 0.1297 - accuracy: 0.9626 - val_loss: 0.8144 - val_accuracy: 0.6450\n",
            "Epoch 10/10\n",
            "127/127 [==============================] - 17s 125ms/step - loss: 0.0937 - accuracy: 0.9800 - val_loss: 1.1019 - val_accuracy: 0.5950\n"
          ]
        }
      ]
    },
    {
      "cell_type": "code",
      "source": [
        "loss, accuracy = model.evaluate(test_dataset)\n",
        "print(f\"Test Accuracy: {accuracy * 100:.2f}%\")\n"
      ],
      "metadata": {
        "colab": {
          "base_uri": "https://localhost:8080/"
        },
        "id": "lOC4OHDsNPou",
        "outputId": "e526087f-8eb8-4d34-c8ba-faecf6d6cc0c"
      },
      "execution_count": 13,
      "outputs": [
        {
          "output_type": "stream",
          "name": "stdout",
          "text": [
            "13/13 [==============================] - 50s 1s/step - loss: 1.0690 - accuracy: 0.6375\n",
            "Test Accuracy: 63.75%\n"
          ]
        }
      ]
    },
    {
      "cell_type": "code",
      "source": [
        "import numpy as np\n",
        "import tensorflow as tf\n",
        "from tensorflow.keras.preprocessing import image\n",
        "\n",
        "img_path = '/content/sample_data/sub.png'\n",
        "img = tf.keras.preprocessing.image.load_img(img_path, target_size=(224, 224))\n",
        "img_array = tf.keras.preprocessing.image.img_to_array(img)\n",
        "img_array = np.expand_dims(img_array, axis=0)\n",
        "img_array = img_array / 255.0\n",
        "\n",
        "prediction = model.predict(img_array)\n",
        "print(prediction)\n",
        "print('Hotdog' if prediction[0][0] < 0.5 else 'Not Hotdog')\n"
      ],
      "metadata": {
        "id": "2qX_jveONQOA",
        "colab": {
          "base_uri": "https://localhost:8080/"
        },
        "outputId": "06437dc1-cc95-4bc3-8571-66d38e5bda52"
      },
      "execution_count": 41,
      "outputs": [
        {
          "output_type": "stream",
          "name": "stdout",
          "text": [
            "1/1 [==============================] - 0s 19ms/step\n",
            "[[0.5020929]]\n",
            "Not Hotdog\n"
          ]
        }
      ]
    }
  ]
}