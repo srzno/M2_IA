{
  "nbformat": 4,
  "nbformat_minor": 0,
  "metadata": {
    "colab": {
      "provenance": []
    },
    "kernelspec": {
      "name": "python3",
      "display_name": "Python 3"
    },
    "language_info": {
      "name": "python"
    }
  },
  "cells": [
    {
      "cell_type": "code",
      "source": [
        "from google.colab import drive\n",
        "drive.mount('/content/drive')"
      ],
      "metadata": {
        "colab": {
          "base_uri": "https://localhost:8080/"
        },
        "id": "zGFr7fCdlPxx",
        "outputId": "028c6b31-717e-4f16-f558-c9dff17be525"
      },
      "execution_count": 1,
      "outputs": [
        {
          "output_type": "stream",
          "name": "stdout",
          "text": [
            "Mounted at /content/drive\n"
          ]
        }
      ]
    },
    {
      "cell_type": "code",
      "source": [
        "%cd \"/content/drive/MyDrive/hotdog-nothotdog\"\n",
        "!ls"
      ],
      "metadata": {
        "colab": {
          "base_uri": "https://localhost:8080/"
        },
        "id": "8STOy8dHlVn5",
        "outputId": "691038dd-3185-4764-90fc-8e06af64c7ae"
      },
      "execution_count": 2,
      "outputs": [
        {
          "output_type": "stream",
          "name": "stdout",
          "text": [
            "/content/drive/MyDrive/hotdog-nothotdog\n",
            "augmented  hotdog.jpg  pizza.jpg  test\ttrain  validation\n"
          ]
        }
      ]
    },
    {
      "cell_type": "code",
      "execution_count": 3,
      "metadata": {
        "id": "zjV-KS1ulFC4"
      },
      "outputs": [],
      "source": [
        "import tensorflow as tf\n",
        "from tensorflow.keras import layers, models, optimizers, callbacks\n",
        "from tensorflow.keras.layers import BatchNormalization, Dropout, Dense\n",
        "from tensorflow.keras.callbacks import EarlyStopping\n",
        "import os\n",
        "\n",
        "base_dir = '/content/drive/MyDrive/hotdog-nothotdog'\n",
        "test_dir = os.path.join(base_dir, 'test')\n",
        "validation_dir = os.path.join(base_dir, 'validation')\n",
        "train_dir = os.path.join(base_dir, 'train')\n"
      ]
    },
    {
      "cell_type": "code",
      "source": [
        "train_dataset = tf.keras.preprocessing.image_dataset_from_directory(\n",
        "    train_dir,\n",
        "    image_size=(224, 224),\n",
        "    batch_size=32,\n",
        "    label_mode='binary'\n",
        ")\n",
        "\n",
        "validation_dataset = tf.keras.preprocessing.image_dataset_from_directory(\n",
        "    validation_dir,\n",
        "    image_size=(224, 224),\n",
        "    batch_size=32,\n",
        "    label_mode='binary'\n",
        ")\n",
        "\n",
        "test_dataset = tf.keras.preprocessing.image_dataset_from_directory(\n",
        "    test_dir,\n",
        "    image_size=(224, 224),\n",
        "    batch_size=32,\n",
        "    label_mode='binary'\n",
        ")\n"
      ],
      "metadata": {
        "colab": {
          "base_uri": "https://localhost:8080/"
        },
        "id": "cBsaoNeFlIjl",
        "outputId": "fa075204-99c9-4543-d7db-2fc0dfdb9a7e"
      },
      "execution_count": 4,
      "outputs": [
        {
          "output_type": "stream",
          "name": "stdout",
          "text": [
            "Found 4042 files belonging to 2 classes.\n",
            "Found 200 files belonging to 2 classes.\n",
            "Found 400 files belonging to 2 classes.\n"
          ]
        }
      ]
    },
    {
      "cell_type": "code",
      "source": [
        "import tensorflow_hub as hub\n",
        "\n",
        "model = models.Sequential()\n",
        "model_E = tf.keras.Sequential([\n",
        "    hub.KerasLayer(\"https://tfhub.dev/google/imagenet/mobilenet_v2_100_224/classification/5\",\n",
        "                   trainable=False),\n",
        "    tf.keras.layers.Dense(128, activation='relu')\n",
        "])\n",
        "\n",
        "model.add(model_E)\n",
        "model.add(BatchNormalization())\n",
        "model.add(Dropout(0.25))\n",
        "model.add(Dense(50, activation='relu'))\n",
        "model.add(Dense(1, activation='sigmoid'))\n",
        "\n",
        "model.compile(optimizer='adam', loss='binary_crossentropy', metrics=['accuracy'])\n",
        "\n",
        "model.build((None, 224, 224, 3))\n",
        "print(model.summary())\n"
      ],
      "metadata": {
        "colab": {
          "base_uri": "https://localhost:8080/"
        },
        "id": "xW8xLv9zldPu",
        "outputId": "da5e57ec-aa89-4d36-dbe5-ccbe2b36d6cc"
      },
      "execution_count": 5,
      "outputs": [
        {
          "output_type": "stream",
          "name": "stdout",
          "text": [
            "Model: \"sequential\"\n",
            "_________________________________________________________________\n",
            " Layer (type)                Output Shape              Param #   \n",
            "=================================================================\n",
            " sequential_1 (Sequential)   (None, 128)               3668521   \n",
            "                                                                 \n",
            " batch_normalization (Batch  (None, 128)               512       \n",
            " Normalization)                                                  \n",
            "                                                                 \n",
            " dropout (Dropout)           (None, 128)               0         \n",
            "                                                                 \n",
            " dense_1 (Dense)             (None, 50)                6450      \n",
            "                                                                 \n",
            " dense_2 (Dense)             (None, 1)                 51        \n",
            "                                                                 \n",
            "=================================================================\n",
            "Total params: 3675534 (14.02 MB)\n",
            "Trainable params: 135013 (527.39 KB)\n",
            "Non-trainable params: 3540521 (13.51 MB)\n",
            "_________________________________________________________________\n",
            "None\n"
          ]
        }
      ]
    },
    {
      "cell_type": "code",
      "source": [
        "early_stopping = EarlyStopping(monitor='val_loss', patience=5, restore_best_weights=True)\n",
        "history = model.fit(\n",
        "    train_dataset,\n",
        "    epochs=20,\n",
        "    validation_data=validation_dataset,\n",
        "    callbacks=[early_stopping]\n",
        ")\n"
      ],
      "metadata": {
        "colab": {
          "base_uri": "https://localhost:8080/"
        },
        "id": "Utvq7TYIljlW",
        "outputId": "03b05261-ba9c-4223-8850-b014d170861a"
      },
      "execution_count": 6,
      "outputs": [
        {
          "output_type": "stream",
          "name": "stdout",
          "text": [
            "Epoch 1/20\n",
            "127/127 [==============================] - 671s 5s/step - loss: 0.6074 - accuracy: 0.6739 - val_loss: 0.7209 - val_accuracy: 0.6250\n",
            "Epoch 2/20\n",
            "127/127 [==============================] - 160s 1s/step - loss: 0.5524 - accuracy: 0.7118 - val_loss: 0.8218 - val_accuracy: 0.5900\n",
            "Epoch 3/20\n",
            "127/127 [==============================] - 156s 1s/step - loss: 0.5208 - accuracy: 0.7380 - val_loss: 0.7324 - val_accuracy: 0.6250\n",
            "Epoch 4/20\n",
            "127/127 [==============================] - 169s 1s/step - loss: 0.4935 - accuracy: 0.7536 - val_loss: 0.7002 - val_accuracy: 0.6750\n",
            "Epoch 5/20\n",
            "127/127 [==============================] - 165s 1s/step - loss: 0.4823 - accuracy: 0.7610 - val_loss: 0.6842 - val_accuracy: 0.6500\n",
            "Epoch 6/20\n",
            "127/127 [==============================] - 147s 1s/step - loss: 0.4738 - accuracy: 0.7677 - val_loss: 0.6975 - val_accuracy: 0.6400\n",
            "Epoch 7/20\n",
            "127/127 [==============================] - 142s 1s/step - loss: 0.4550 - accuracy: 0.7761 - val_loss: 0.7217 - val_accuracy: 0.6850\n",
            "Epoch 8/20\n",
            "127/127 [==============================] - 142s 1s/step - loss: 0.4361 - accuracy: 0.7917 - val_loss: 0.7199 - val_accuracy: 0.6500\n",
            "Epoch 9/20\n",
            "127/127 [==============================] - 145s 1s/step - loss: 0.4338 - accuracy: 0.7929 - val_loss: 0.6737 - val_accuracy: 0.7000\n",
            "Epoch 10/20\n",
            "127/127 [==============================] - 147s 1s/step - loss: 0.4193 - accuracy: 0.8036 - val_loss: 0.6511 - val_accuracy: 0.6850\n",
            "Epoch 11/20\n",
            "127/127 [==============================] - 144s 1s/step - loss: 0.4074 - accuracy: 0.8127 - val_loss: 0.7115 - val_accuracy: 0.6450\n",
            "Epoch 12/20\n",
            "127/127 [==============================] - 141s 1s/step - loss: 0.4029 - accuracy: 0.8132 - val_loss: 0.7182 - val_accuracy: 0.6550\n",
            "Epoch 13/20\n",
            "127/127 [==============================] - 169s 1s/step - loss: 0.3781 - accuracy: 0.8273 - val_loss: 0.7367 - val_accuracy: 0.6400\n",
            "Epoch 14/20\n",
            "127/127 [==============================] - 142s 1s/step - loss: 0.3850 - accuracy: 0.8266 - val_loss: 0.7702 - val_accuracy: 0.6550\n",
            "Epoch 15/20\n",
            "127/127 [==============================] - 144s 1s/step - loss: 0.3819 - accuracy: 0.8328 - val_loss: 0.8049 - val_accuracy: 0.6200\n"
          ]
        }
      ]
    },
    {
      "cell_type": "code",
      "source": [
        "test_loss, test_accuracy = model.evaluate(test_dataset)\n",
        "print(f\"Test accuracy: {test_accuracy * 100:.2f}%\")\n",
        "\n",
        "import matplotlib.pyplot as plt\n",
        "\n",
        "plt.plot(history.history['accuracy'], label='train accuracy')\n",
        "plt.plot(history.history['val_accuracy'], label='val accuracy')\n",
        "plt.xlabel('Epoch')\n",
        "plt.ylabel('Accuracy')\n",
        "plt.legend(loc='lower right')\n",
        "plt.show()\n",
        "\n",
        "plt.plot(history.history['loss'], label='train loss')\n",
        "plt.plot(history.history['val_loss'], label='val loss')\n",
        "plt.xlabel('Epoch')\n",
        "plt.ylabel('Loss')\n",
        "plt.legend(loc='upper right')\n",
        "plt.show()\n"
      ],
      "metadata": {
        "id": "7Rb9vh8Llmxe"
      },
      "execution_count": null,
      "outputs": []
    }
  ]
}